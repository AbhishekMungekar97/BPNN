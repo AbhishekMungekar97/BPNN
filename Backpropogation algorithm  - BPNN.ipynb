{
 "cells": [
  {
   "cell_type": "markdown",
   "metadata": {},
   "source": [
    "# - Applying Back-propogation algorithm without major libraries"
   ]
  },
  {
   "cell_type": "code",
   "execution_count": 6,
   "metadata": {
    "scrolled": false
   },
   "outputs": [],
   "source": [
    "#Importing neccasary libraries\n",
    "from sklearn.model_selection import train_test_split\n",
    "import numpy as np\n",
    "import pandas as pd\n",
    "from tqdm import tqdm \n",
    "\n",
    "# Defining an activation fucntions for the second layer - sigmoid activation function \n",
    "def sigmoid(z):\n",
    "    s = 1 / (1 + np.exp(-z))\n",
    "    return s\n",
    "\n",
    "# Defining an activation function for the final layer : Softmax activation function since there are 4 classes to be determined  \n",
    "def softmax(z):\n",
    "    expz = np.exp(z - z.max())\n",
    "    return expz / np.sum(expz, axis=0)\n",
    "\n",
    "\n",
    "# Importing the dataset required to be trained for the model\n",
    "x = pd.read_csv('Input_data.csv')\n",
    "y = pd.read_csv('labels_Input_data.csv')\n",
    "y = y.astype(np.int)\n",
    "\n",
    "#Performing a 80-20% split of the provided dataset, into training and testinf data respectively.\n",
    "X_train, X_test, y_train, y_test = train_test_split(x,y, test_size=0.2, random_state=42)\n",
    "\n",
    "# Defining a class BPNN to incoroporate all the neccasary functions for model development\n",
    "class BPNN(object):\n",
    "\n",
    "    #Initializing the model parameters\n",
    "    def __init__(self, hidden_size, epochs=30, lr=0.01):\n",
    "        self.epochs = epochs #Number of times the model gets updated\n",
    "        self.lr = lr #learning rate\n",
    "        self.input_size = 784 #Input_size : the features of the dataset as the input to this model\n",
    "        self.output_size = 4 #output_size : the 4 different classes that are the output of the question\n",
    "        self.hidden = hidden_size #number of nodes in the hidden layer, this is uder dependant\n",
    "        \n",
    "        print('The designed network will have ' +str(hidden_size)+ ' number of nodes in the hidden layer')\n",
    "        print('-----')\n",
    "        \n",
    "        self.weight1 = np.random.normal(0, 0.2, [self.input_size, self.hidden]) # random weight initialization between the input layer and the hidden layer\n",
    "        self.bias1 = np.zeros((1, self.hidden)) # Adding bias to the first layer of weights\n",
    "        self.weight2 = np.random.normal(0, 0.2, [self.hidden, self.output_size]) #random weight initialization between the hidden layer and the output layer\n",
    "        self.bias2 = np.zeros((1, self.output_size))  # Adding bias to the second layer of weights\n",
    "    \n",
    "    #Training the model - takes the training input and output, and batch value\n",
    "    def train(self, training_inputs, training_outputs, batch_size):\n",
    "      \n",
    "        print('Network training with a batch size of '+str(batch_size))\n",
    "        print('-----')\n",
    "        \n",
    "        #intialization of previous gradients \n",
    "        prev_grad_w2 = 0\n",
    "        prev_grad_w1 = 0\n",
    "        # momentum value\n",
    "        mom_factor = 0.55\n",
    "        \n",
    "        #Developing a progress bar to give a good graphic on the progress\n",
    "        progress_bar = tqdm(range(self.epochs))\n",
    "        for k in progress_bar:\n",
    "            increment = 0\n",
    "            avg_error = 0\n",
    "            while increment < training_inputs.shape[0]:\n",
    "                #making batches of the training data and their respective labels\n",
    "                tx = training_inputs[increment:increment+batch_size]\n",
    "                ty = training_outputs[increment:increment+batch_size]\n",
    "                \n",
    "                # forward propogation of data\n",
    "                z1 = np.dot(tx, self.weight1)\n",
    "                a1 = sigmoid(z1)\n",
    "                z2 = np.dot(a1, self.weight2) \n",
    "                y = softmax(z2)\n",
    "                \n",
    "                #back-propogation of data and error calulations  \n",
    "                dy2 = y*(1-y) #derivative of final output\n",
    "                dy1 = a1*(1-a1) #derivative of hidden layer output\n",
    "                output_error = np.subtract(ty,y) #error in output layer\n",
    "                avg_error = np.mean(output_error)\n",
    "                output_delta = output_error * dy2 #element wise mulitplication\n",
    "                hidden_error = np.dot(output_delta, self.weight2.T)\n",
    "                hidden_layer_delta = hidden_error * dy1 #element wise multiplication\n",
    "                \n",
    "                #momentum\n",
    "                momentum_factor_w1 = mom_factor * prev_grad_w1\n",
    "                momentum_factor_w2 = mom_factor * prev_grad_w2\n",
    "                \n",
    "                #backpropogation calculation for each of the weights and biases\n",
    "                dW2 = np.dot(a1.T, output_delta) \n",
    "                db2 = np.sum(output_delta, axis = 0)\n",
    "                dW1 = np.dot(tx.T, hidden_layer_delta)\n",
    "                db1 = np.sum(hidden_layer_delta, axis = 0)\n",
    "\n",
    "                                \n",
    "                #update weights and bias\n",
    "                self.weight2 += (1./batch_size * self.lr * dW2) + momentum_factor_w2\n",
    "                self.weight1 +=  (1./batch_size * self.lr * dW1) + momentum_factor_w1\n",
    "                self.bias1 +=  1./batch_size* self.lr * db1\n",
    "                \n",
    "                #save the graident to use in next batch iteration\n",
    "                prev_grad_w1 = 1./batch_size * self.lr * dW1\n",
    "                prev_grad_w2 = 1./batch_size * self.lr * dW2\n",
    "                              \n",
    "                #increment to access next set of inputs\n",
    "                increment =increment + batch_size\n",
    "            print(\"Error at this epoch :  \")\n",
    "            print(output_error)\n",
    "            \n",
    "    # Used to test the neural network - accepts the x or input values of the test data\n",
    "    def test(self, test_input):\n",
    "        #forward feed\n",
    "        z1 = np.dot(test_input, self.weight1) \n",
    "        a1 = sigmoid(z1)\n",
    "        z2 = np.dot(a1, self.weight2) \n",
    "        y = softmax(z2)\n",
    "        ytest = np.array(y)\n",
    "        return ytest\n",
    "    \n",
    "    def prediction(self, test_input, test_output):\n",
    "        #forward feed\n",
    "        z1 = np.dot(test_input, self.weight1) \n",
    "        a1 = sigmoid(z1)\n",
    "        z2 = np.dot(a1, self.weight2) \n",
    "        y = softmax(z2)\n",
    "        a = np.zeros((4951, 1))\n",
    "     \n",
    "      # To see how accurate the neural network is compared to the correct values\n",
    "        acc = 0.0\n",
    "        y = np.array(y)\n",
    "        test_output = np.array(test_output)\n",
    "        for i in range(4951):\n",
    "            \n",
    "            if np.argmax(y[i]) == np.argmax(test_output[i]):\n",
    "                acc += 1\n",
    "                a[i] = np.argmax(y[i])\n",
    "        print(\"Accuracy of this model on the test data is: \", acc / 4951 * 100, \"%\")\n",
    "        return a\n"
   ]
  },
  {
   "cell_type": "markdown",
   "metadata": {},
   "source": [
    "## - Training the model with approporiate parameters"
   ]
  },
  {
   "cell_type": "code",
   "execution_count": 7,
   "metadata": {
    "scrolled": false
   },
   "outputs": [
    {
     "name": "stderr",
     "output_type": "stream",
     "text": [
      "  0%|                                                                                           | 0/30 [00:00<?, ?it/s]"
     ]
    },
    {
     "name": "stdout",
     "output_type": "stream",
     "text": [
      "The designed network will have 800 number of nodes in the hidden layer\n",
      "-----\n",
      "Network training with a batch size of 10\n",
      "-----\n"
     ]
    },
    {
     "name": "stderr",
     "output_type": "stream",
     "text": [
      "  3%|██▊                                                                                | 1/30 [00:30<14:43, 30.45s/it]"
     ]
    },
    {
     "name": "stdout",
     "output_type": "stream",
     "text": [
      "Error at this epoch :  \n",
      "       1.000000000000000000e+00  0.000000000000000000e+00  0.000000000000000000e+00.1  0.000000000000000000e+00.2\n",
      "15795                 -0.999766                 -0.000001                    -0.39305                    0.000007\n",
      "23654                 -0.000234                  0.000001                    -0.60695                   -0.000007\n"
     ]
    },
    {
     "name": "stderr",
     "output_type": "stream",
     "text": [
      "  7%|█████▌                                                                             | 2/30 [01:01<14:14, 30.53s/it]"
     ]
    },
    {
     "name": "stdout",
     "output_type": "stream",
     "text": [
      "Error at this epoch :  \n",
      "       1.000000000000000000e+00  0.000000000000000000e+00  0.000000000000000000e+00.1  0.000000000000000000e+00.2\n",
      "15795                 -0.999998             -9.894218e-10                   -0.231264                3.931727e-08\n",
      "23654                 -0.000002              9.894219e-10                   -0.768736               -3.931727e-08\n"
     ]
    },
    {
     "name": "stderr",
     "output_type": "stream",
     "text": [
      " 10%|████████▎                                                                          | 3/30 [01:31<13:43, 30.49s/it]"
     ]
    },
    {
     "name": "stdout",
     "output_type": "stream",
     "text": [
      "Error at this epoch :  \n",
      "       1.000000000000000000e+00  0.000000000000000000e+00  0.000000000000000000e+00.1  0.000000000000000000e+00.2\n",
      "15795             -9.999999e-01             -5.522548e-12                    -0.10723                1.090412e-09\n",
      "23654             -9.190972e-08              5.522471e-12                    -0.89277               -1.090412e-09\n"
     ]
    },
    {
     "name": "stderr",
     "output_type": "stream",
     "text": [
      " 13%|███████████                                                                        | 4/30 [02:02<13:19, 30.77s/it]"
     ]
    },
    {
     "name": "stdout",
     "output_type": "stream",
     "text": [
      "Error at this epoch :  \n",
      "       1.000000000000000000e+00  0.000000000000000000e+00  0.000000000000000000e+00.1  0.000000000000000000e+00.2\n",
      "15795             -1.000000e+00             -8.018458e-14                   -0.044625                5.624923e-11\n",
      "23654             -6.100073e-09              8.015810e-14                   -0.955375               -5.624927e-11\n"
     ]
    },
    {
     "name": "stderr",
     "output_type": "stream",
     "text": [
      " 17%|█████████████▊                                                                     | 5/30 [02:33<12:49, 30.80s/it]"
     ]
    },
    {
     "name": "stdout",
     "output_type": "stream",
     "text": [
      "Error at this epoch :  \n",
      "       1.000000000000000000e+00  0.000000000000000000e+00  0.000000000000000000e+00.1  0.000000000000000000e+00.2\n",
      "15795             -1.000000e+00             -2.242811e-15                   -0.017974                4.269696e-12\n",
      "23654             -5.847518e-10              2.220446e-15                   -0.982026               -4.269709e-12\n"
     ]
    },
    {
     "name": "stderr",
     "output_type": "stream",
     "text": [
      " 20%|████████████████▌                                                                  | 6/30 [03:04<12:17, 30.74s/it]"
     ]
    },
    {
     "name": "stdout",
     "output_type": "stream",
     "text": [
      "Error at this epoch :  \n",
      "       1.000000000000000000e+00  0.000000000000000000e+00  0.000000000000000000e+00.1  0.000000000000000000e+00.2\n",
      "15795             -1.000000e+00             -1.045330e-16                   -0.007601                4.050094e-13\n",
      "23654             -7.208851e-11              0.000000e+00                   -0.992399               -4.050839e-13\n"
     ]
    },
    {
     "name": "stderr",
     "output_type": "stream",
     "text": [
      " 23%|███████████████████▎                                                               | 7/30 [03:35<11:45, 30.69s/it]"
     ]
    },
    {
     "name": "stdout",
     "output_type": "stream",
     "text": [
      "Error at this epoch :  \n",
      "       1.000000000000000000e+00  0.000000000000000000e+00  0.000000000000000000e+00.1  0.000000000000000000e+00.2\n",
      "15795             -1.000000e+00             -7.732649e-18                   -0.003618                4.285461e-14\n",
      "23654             -1.063314e-11              0.000000e+00                   -0.996382               -4.288911e-14\n"
     ]
    },
    {
     "name": "stderr",
     "output_type": "stream",
     "text": [
      " 27%|██████████████████████▏                                                            | 8/30 [04:05<11:16, 30.74s/it]"
     ]
    },
    {
     "name": "stdout",
     "output_type": "stream",
     "text": [
      "Error at this epoch :  \n",
      "       1.000000000000000000e+00  0.000000000000000000e+00  0.000000000000000000e+00.1  0.000000000000000000e+00.2\n",
      "15795             -1.000000e+00             -8.904076e-19                   -0.002021                4.996004e-15\n",
      "23654             -1.763676e-12              0.000000e+00                   -0.997979               -4.942983e-15\n"
     ]
    },
    {
     "name": "stderr",
     "output_type": "stream",
     "text": [
      " 30%|████████████████████████▉                                                          | 9/30 [04:36<10:43, 30.63s/it]"
     ]
    },
    {
     "name": "stdout",
     "output_type": "stream",
     "text": [
      "Error at this epoch :  \n",
      "       1.000000000000000000e+00  0.000000000000000000e+00  0.000000000000000000e+00.1  0.000000000000000000e+00.2\n",
      "15795             -1.000000e+00             -1.474459e-19                   -0.001302                5.551115e-16\n",
      "23654             -3.218209e-13              0.000000e+00                   -0.998698               -6.455728e-16\n"
     ]
    },
    {
     "name": "stderr",
     "output_type": "stream",
     "text": [
      " 33%|███████████████████████████▎                                                      | 10/30 [05:06<10:10, 30.52s/it]"
     ]
    },
    {
     "name": "stdout",
     "output_type": "stream",
     "text": [
      "Error at this epoch :  \n",
      "       1.000000000000000000e+00  0.000000000000000000e+00  0.000000000000000000e+00.1  0.000000000000000000e+00.2\n",
      "15795             -1.000000e+00             -3.238893e-20                   -0.000921                1.110223e-16\n",
      "23654             -6.557177e-14              0.000000e+00                   -0.999079               -9.803682e-17\n"
     ]
    },
    {
     "name": "stderr",
     "output_type": "stream",
     "text": [
      " 37%|██████████████████████████████                                                    | 11/30 [05:37<09:40, 30.56s/it]"
     ]
    },
    {
     "name": "stdout",
     "output_type": "stream",
     "text": [
      "Error at this epoch :  \n",
      "       1.000000000000000000e+00  0.000000000000000000e+00  0.000000000000000000e+00.1  0.000000000000000000e+00.2\n",
      "15795             -1.000000e+00             -9.053190e-21                   -0.000694                0.000000e+00\n",
      "23654             -1.490478e-14              0.000000e+00                   -0.999306               -1.712824e-17\n"
     ]
    },
    {
     "name": "stderr",
     "output_type": "stream",
     "text": [
      " 40%|████████████████████████████████▊                                                 | 12/30 [06:07<09:10, 30.60s/it]"
     ]
    },
    {
     "name": "stdout",
     "output_type": "stream",
     "text": [
      "Error at this epoch :  \n",
      "       1.000000000000000000e+00  0.000000000000000000e+00  0.000000000000000000e+00.1  0.000000000000000000e+00.2\n",
      "15795             -1.000000e+00             -3.068402e-21                   -0.000547                0.000000e+00\n",
      "23654             -3.742354e-15              0.000000e+00                   -0.999453               -3.404115e-18\n"
     ]
    },
    {
     "name": "stderr",
     "output_type": "stream",
     "text": [
      " 43%|███████████████████████████████████▌                                              | 13/30 [06:39<08:44, 30.84s/it]"
     ]
    },
    {
     "name": "stdout",
     "output_type": "stream",
     "text": [
      "Error at this epoch :  \n",
      "       1.000000000000000000e+00  0.000000000000000000e+00  0.000000000000000000e+00.1  0.000000000000000000e+00.2\n",
      "15795             -1.000000e+00             -1.201193e-21                   -0.000452                0.000000e+00\n",
      "23654             -1.011270e-15              0.000000e+00                   -0.999548               -7.718015e-19\n"
     ]
    },
    {
     "name": "stderr",
     "output_type": "stream",
     "text": [
      " 47%|██████████████████████████████████████▎                                           | 14/30 [07:10<08:13, 30.83s/it]"
     ]
    },
    {
     "name": "stdout",
     "output_type": "stream",
     "text": [
      "Error at this epoch :  \n",
      "       1.000000000000000000e+00  0.000000000000000000e+00  0.000000000000000000e+00.1  0.000000000000000000e+00.2\n",
      "15795             -1.000000e+00             -5.372059e-22                     -0.0004                0.000000e+00\n",
      "23654             -2.850148e-16              0.000000e+00                     -0.9996               -1.982407e-19\n"
     ]
    },
    {
     "name": "stderr",
     "output_type": "stream",
     "text": [
      " 50%|█████████████████████████████████████████                                         | 15/30 [07:40<07:42, 30.82s/it]"
     ]
    },
    {
     "name": "stdout",
     "output_type": "stream",
     "text": [
      "Error at this epoch :  \n",
      "       1.000000000000000000e+00  0.000000000000000000e+00  0.000000000000000000e+00.1  0.000000000000000000e+00.2\n",
      "15795             -1.000000e+00             -2.795951e-22                   -0.000385                0.000000e+00\n",
      "23654             -8.245477e-17              0.000000e+00                   -0.999615               -5.646185e-20\n"
     ]
    },
    {
     "name": "stderr",
     "output_type": "stream",
     "text": [
      " 53%|███████████████████████████████████████████▋                                      | 16/30 [08:11<07:11, 30.84s/it]"
     ]
    },
    {
     "name": "stdout",
     "output_type": "stream",
     "text": [
      "Error at this epoch :  \n",
      "       1.000000000000000000e+00  0.000000000000000000e+00  0.000000000000000000e+00.1  0.000000000000000000e+00.2\n",
      "15795             -1.000000e+00             -1.699814e-22                   -0.000396                0.000000e+00\n",
      "23654             -2.461564e-17              0.000000e+00                   -0.999604               -1.760711e-20\n"
     ]
    },
    {
     "name": "stderr",
     "output_type": "stream",
     "text": [
      " 57%|██████████████████████████████████████████████▍                                   | 17/30 [08:41<06:37, 30.57s/it]"
     ]
    },
    {
     "name": "stdout",
     "output_type": "stream",
     "text": [
      "Error at this epoch :  \n",
      "       1.000000000000000000e+00  0.000000000000000000e+00  0.000000000000000000e+00.1  0.000000000000000000e+00.2\n",
      "15795             -1.000000e+00             -1.189249e-22                   -0.000426                0.000000e+00\n",
      "23654             -7.686392e-18              0.000000e+00                   -0.999574               -5.827903e-21\n"
     ]
    },
    {
     "name": "stderr",
     "output_type": "stream",
     "text": [
      " 60%|█████████████████████████████████████████████████▏                                | 18/30 [09:11<06:05, 30.50s/it]"
     ]
    },
    {
     "name": "stdout",
     "output_type": "stream",
     "text": [
      "Error at this epoch :  \n",
      "       1.000000000000000000e+00  0.000000000000000000e+00  0.000000000000000000e+00.1  0.000000000000000000e+00.2\n",
      "15795             -1.000000e+00             -9.584912e-23                   -0.000471                0.000000e+00\n",
      "23654             -2.501986e-18              0.000000e+00                   -0.999529               -1.933784e-21\n"
     ]
    },
    {
     "name": "stderr",
     "output_type": "stream",
     "text": [
      " 63%|███████████████████████████████████████████████████▉                              | 19/30 [09:42<05:34, 30.43s/it]"
     ]
    },
    {
     "name": "stdout",
     "output_type": "stream",
     "text": [
      "Error at this epoch :  \n",
      "       1.000000000000000000e+00  0.000000000000000000e+00  0.000000000000000000e+00.1  0.000000000000000000e+00.2\n",
      "15795             -1.000000e+00             -8.979769e-23                   -0.000517                0.000000e+00\n",
      "23654             -8.720965e-19              0.000000e+00                   -0.999483               -6.327354e-22\n"
     ]
    },
    {
     "name": "stderr",
     "output_type": "stream",
     "text": [
      " 67%|██████████████████████████████████████████████████████▋                           | 20/30 [10:13<05:07, 30.70s/it]"
     ]
    },
    {
     "name": "stdout",
     "output_type": "stream",
     "text": [
      "Error at this epoch :  \n",
      "       1.000000000000000000e+00  0.000000000000000000e+00  0.000000000000000000e+00.1  0.000000000000000000e+00.2\n",
      "15795             -1.000000e+00             -9.702715e-23                    -0.00056                0.000000e+00\n",
      "23654             -3.346297e-19              0.000000e+00                    -0.99944               -2.069490e-22\n"
     ]
    },
    {
     "name": "stderr",
     "output_type": "stream",
     "text": [
      " 70%|█████████████████████████████████████████████████████████▍                        | 21/30 [10:43<04:34, 30.53s/it]"
     ]
    },
    {
     "name": "stdout",
     "output_type": "stream",
     "text": [
      "Error at this epoch :  \n",
      "       1.000000000000000000e+00  0.000000000000000000e+00  0.000000000000000000e+00.1  0.000000000000000000e+00.2\n",
      "15795             -1.000000e+00             -1.209691e-22                   -0.000647                0.000000e+00\n",
      "23654             -1.329180e-19              0.000000e+00                   -0.999353               -6.736848e-23\n"
     ]
    },
    {
     "name": "stderr",
     "output_type": "stream",
     "text": [
      " 73%|████████████████████████████████████████████████████████████▏                     | 22/30 [11:13<04:03, 30.43s/it]"
     ]
    },
    {
     "name": "stdout",
     "output_type": "stream",
     "text": [
      "Error at this epoch :  \n",
      "       1.000000000000000000e+00  0.000000000000000000e+00  0.000000000000000000e+00.1  0.000000000000000000e+00.2\n",
      "15795             -1.000000e+00             -1.747499e-22                   -0.000851                0.000000e+00\n",
      "23654             -5.131347e-20              0.000000e+00                   -0.999149               -2.221817e-23\n"
     ]
    },
    {
     "name": "stderr",
     "output_type": "stream",
     "text": [
      " 77%|██████████████████████████████████████████████████████████████▊                   | 23/30 [11:44<03:32, 30.42s/it]"
     ]
    },
    {
     "name": "stdout",
     "output_type": "stream",
     "text": [
      "Error at this epoch :  \n",
      "       1.000000000000000000e+00  0.000000000000000000e+00  0.000000000000000000e+00.1  0.000000000000000000e+00.2\n",
      "15795             -1.000000e+00             -2.865409e-22                   -0.001302                0.000000e+00\n",
      "23654             -1.899049e-20              0.000000e+00                   -0.998698               -7.527787e-24\n"
     ]
    },
    {
     "name": "stderr",
     "output_type": "stream",
     "text": [
      " 80%|█████████████████████████████████████████████████████████████████▌                | 24/30 [12:14<03:02, 30.35s/it]"
     ]
    },
    {
     "name": "stdout",
     "output_type": "stream",
     "text": [
      "Error at this epoch :  \n",
      "       1.000000000000000000e+00  0.000000000000000000e+00  0.000000000000000000e+00.1  0.000000000000000000e+00.2\n",
      "15795             -1.000000e+00             -5.278360e-22                   -0.002404                0.000000e+00\n",
      "23654             -6.678373e-21              0.000000e+00                   -0.997596               -2.521158e-24\n"
     ]
    },
    {
     "name": "stderr",
     "output_type": "stream",
     "text": [
      " 83%|████████████████████████████████████████████████████████████████████▎             | 25/30 [12:44<02:30, 30.19s/it]"
     ]
    },
    {
     "name": "stdout",
     "output_type": "stream",
     "text": [
      "Error at this epoch :  \n",
      "       1.000000000000000000e+00  0.000000000000000000e+00  0.000000000000000000e+00.1  0.000000000000000000e+00.2\n",
      "15795             -1.000000e+00             -1.094096e-21                   -0.005452                0.000000e+00\n",
      "23654             -2.217555e-21              0.000000e+00                   -0.994548               -7.766856e-25\n"
     ]
    },
    {
     "name": "stderr",
     "output_type": "stream",
     "text": [
      " 87%|███████████████████████████████████████████████████████████████████████           | 26/30 [13:14<02:00, 30.13s/it]"
     ]
    },
    {
     "name": "stdout",
     "output_type": "stream",
     "text": [
      "Error at this epoch :  \n",
      "       1.000000000000000000e+00  0.000000000000000000e+00  0.000000000000000000e+00.1  0.000000000000000000e+00.2\n",
      "15795             -1.000000e+00             -2.411753e-21                   -0.014075                0.000000e+00\n",
      "23654             -7.455423e-22              0.000000e+00                   -0.985925               -2.167847e-25\n"
     ]
    },
    {
     "name": "stderr",
     "output_type": "stream",
     "text": [
      " 90%|█████████████████████████████████████████████████████████████████████████▊        | 27/30 [13:44<01:30, 30.22s/it]"
     ]
    },
    {
     "name": "stdout",
     "output_type": "stream",
     "text": [
      "Error at this epoch :  \n",
      "       1.000000000000000000e+00  0.000000000000000000e+00  0.000000000000000000e+00.1  0.000000000000000000e+00.2\n",
      "15795             -1.000000e+00             -5.177555e-21                   -0.037156                0.000000e+00\n",
      "23654             -2.718416e-22              0.000000e+00                   -0.962844               -5.687509e-26\n"
     ]
    },
    {
     "name": "stderr",
     "output_type": "stream",
     "text": [
      " 93%|████████████████████████████████████████████████████████████████████████████▌     | 28/30 [14:15<01:00, 30.28s/it]"
     ]
    },
    {
     "name": "stdout",
     "output_type": "stream",
     "text": [
      "Error at this epoch :  \n",
      "       1.000000000000000000e+00  0.000000000000000000e+00  0.000000000000000000e+00.1  0.000000000000000000e+00.2\n",
      "15795             -1.000000e+00             -9.911988e-21                   -0.090838                0.000000e+00\n",
      "23654             -1.148246e-22              0.000000e+00                   -0.909162               -1.465079e-26\n"
     ]
    },
    {
     "name": "stderr",
     "output_type": "stream",
     "text": [
      " 97%|███████████████████████████████████████████████████████████████████████████████▎  | 29/30 [14:46<00:30, 30.51s/it]"
     ]
    },
    {
     "name": "stdout",
     "output_type": "stream",
     "text": [
      "Error at this epoch :  \n",
      "       1.000000000000000000e+00  0.000000000000000000e+00  0.000000000000000000e+00.1  0.000000000000000000e+00.2\n",
      "15795             -1.000000e+00             -1.712824e-20                    -0.19558                0.000000e+00\n",
      "23654             -5.780712e-23              0.000000e+00                    -0.80442               -3.824976e-27\n"
     ]
    },
    {
     "name": "stderr",
     "output_type": "stream",
     "text": [
      "100%|██████████████████████████████████████████████████████████████████████████████████| 30/30 [15:16<00:00, 30.56s/it]"
     ]
    },
    {
     "name": "stdout",
     "output_type": "stream",
     "text": [
      "Error at this epoch :  \n",
      "       1.000000000000000000e+00  0.000000000000000000e+00  0.000000000000000000e+00.1  0.000000000000000000e+00.2\n",
      "15795             -1.000000e+00             -3.023983e-20                    -0.36854                0.000000e+00\n",
      "23654             -3.441290e-23              0.000000e+00                    -0.63146               -1.045402e-27\n"
     ]
    },
    {
     "name": "stderr",
     "output_type": "stream",
     "text": [
      "\n"
     ]
    }
   ],
   "source": [
    "if __name__ == '__main__':\n",
    "    #Setting up the main program, with a selection of approporiate number of hidden layer nodes\n",
    "    model = BPNN(800)\n",
    "    #Training the model, with an appropriate batch size\n",
    "    final_model = model.train(X_train,y_train,10)"
   ]
  },
  {
   "cell_type": "markdown",
   "metadata": {},
   "source": [
    "## - Making predictions on the 'X_test' data using the trained model"
   ]
  },
  {
   "cell_type": "code",
   "execution_count": 8,
   "metadata": {},
   "outputs": [
    {
     "name": "stdout",
     "output_type": "stream",
     "text": [
      "Accuracy of this model on the test data is:  92.36517875176732 %\n"
     ]
    },
    {
     "data": {
      "text/plain": [
       "array([[1.],\n",
       "       [2.],\n",
       "       [2.],\n",
       "       ...,\n",
       "       [1.],\n",
       "       [3.],\n",
       "       [1.]])"
      ]
     },
     "execution_count": 8,
     "metadata": {},
     "output_type": "execute_result"
    }
   ],
   "source": [
    "#Making precitions on the trained model, to justify the accuracy of the model\n",
    "model.prediction(X_test,y_test)"
   ]
  }
 ],
 "metadata": {
  "kernelspec": {
   "display_name": "Python 3",
   "language": "python",
   "name": "python3"
  },
  "language_info": {
   "codemirror_mode": {
    "name": "ipython",
    "version": 3
   },
   "file_extension": ".py",
   "mimetype": "text/x-python",
   "name": "python",
   "nbconvert_exporter": "python",
   "pygments_lexer": "ipython3",
   "version": "3.7.4"
  }
 },
 "nbformat": 4,
 "nbformat_minor": 2
}
